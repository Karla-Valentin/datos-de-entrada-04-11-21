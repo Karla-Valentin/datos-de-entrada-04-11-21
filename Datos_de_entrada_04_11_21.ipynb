{
  "nbformat": 4,
  "nbformat_minor": 0,
  "metadata": {
    "colab": {
      "name": "Datos de entrada 04-11-21.ipynb",
      "provenance": [],
      "authorship_tag": "ABX9TyPr5y38dOPWxo0N1CHasomp",
      "include_colab_link": true
    },
    "kernelspec": {
      "name": "python3",
      "display_name": "Python 3"
    },
    "language_info": {
      "name": "python"
    }
  },
  "cells": [
    {
      "cell_type": "markdown",
      "metadata": {
        "id": "view-in-github",
        "colab_type": "text"
      },
      "source": [
        "<a href=\"https://colab.research.google.com/github/Karla-Valentin/datos-de-entrada-04-11-21/blob/main/Datos_de_entrada_04_11_21.ipynb\" target=\"_parent\"><img src=\"https://colab.research.google.com/assets/colab-badge.svg\" alt=\"Open In Colab\"/></a>"
      ]
    },
    {
      "cell_type": "code",
      "metadata": {
        "id": "DbwfffBsOBTd"
      },
      "source": [
        ""
      ],
      "execution_count": null,
      "outputs": []
    },
    {
      "cell_type": "markdown",
      "metadata": {
        "id": "Mhr6hF3nOKrF"
      },
      "source": [
        "# datos de entrada \n",
        "Para solicitar los datos del ususario, se emplea la función input. La cual regresa siempre un tipo de dato string.\n"
      ]
    },
    {
      "cell_type": "code",
      "metadata": {
        "colab": {
          "base_uri": "https://localhost:8080/"
        },
        "id": "7dJupm3yOOuo",
        "outputId": "4bbdc308-2f53-4e48-ff6f-20a47dcdaa0f"
      },
      "source": [
        "nombre = input(\"Ingresa tu nombre\") \n",
        "print(\"Tecleaste:\" , nombre )"
      ],
      "execution_count": 1,
      "outputs": [
        {
          "output_type": "stream",
          "name": "stdout",
          "text": [
            "Ingresa tu nombreKarla\n",
            "Tecleaste: Karla\n"
          ]
        }
      ]
    },
    {
      "cell_type": "markdown",
      "metadata": {
        "id": "b3s1GnXGOU6n"
      },
      "source": [
        "# Cómo apturar datos numericos \n",
        "\n",
        "Para ello se hace una conversión entre tipo...\n",
        "casting.... consiste en llamar al constructor de la clase deseada.\n",
        "\n",
        "## Ejemplo - convertir el string \"2\" en numero\n",
        "\n",
        "### num = int(\"2\")\n"
      ]
    },
    {
      "cell_type": "code",
      "metadata": {
        "colab": {
          "base_uri": "https://localhost:8080/"
        },
        "id": "TJswUfAbOWNN",
        "outputId": "1b234301-46da-40f6-9acc-14980fd74feb"
      },
      "source": [
        "#Para aumentar un numero a la edad \n",
        "entrada = input(\"Dame tu edad:\")\n",
        "edad = int(entrada)\n",
        "edad += 1 # edad = edad +1\n",
        "print(\"Tu edad es:\", edad)"
      ],
      "execution_count": 2,
      "outputs": [
        {
          "output_type": "stream",
          "name": "stdout",
          "text": [
            "Dame tu edad:18\n",
            "Tu edad es: 19\n"
          ]
        }
      ]
    },
    {
      "cell_type": "code",
      "metadata": {
        "colab": {
          "base_uri": "https://localhost:8080/"
        },
        "id": "1BCawOfWOc-1",
        "outputId": "c66abd90-71c5-41f3-9cf8-91cf5e5f56f9"
      },
      "source": [
        "# Lo mismo pero con menos codigo\n",
        "\n",
        "edad = int( input(\"Dame tu edad:\"))\n",
        "print(\"Tu edad es:\" , edad+1)"
      ],
      "execution_count": 3,
      "outputs": [
        {
          "output_type": "stream",
          "name": "stdout",
          "text": [
            "Dame tu edad:18\n",
            "Tu edad es: 19\n"
          ]
        }
      ]
    },
    {
      "cell_type": "code",
      "metadata": {
        "colab": {
          "base_uri": "https://localhost:8080/"
        },
        "id": "I__JkVBeOjTR",
        "outputId": "a498b82c-e7e5-4ff0-d5c2-98fa0e39ca53"
      },
      "source": [
        "estatura = float(input(\"Dame tu estatura:\"))\n",
        "print(\"Tu estatura es:\" , estatura+0.1 )"
      ],
      "execution_count": 4,
      "outputs": [
        {
          "output_type": "stream",
          "name": "stdout",
          "text": [
            "Dame tu estatura:1.64\n",
            "Tu estatura es: 1.74\n"
          ]
        }
      ]
    }
  ]
}